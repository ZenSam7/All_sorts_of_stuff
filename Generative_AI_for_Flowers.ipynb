{
 "cells": [
  {
   "cell_type": "code",
   "execution_count": 131,
   "outputs": [],
   "source": [
    "from tensorflow import keras\n",
    "import tensorflow_datasets.public_api as tfds\n",
    "import tensorflow as tf\n",
    "import pathlib\n",
    "import matplotlib.pyplot as plt"
   ],
   "metadata": {
    "collapsed": false,
    "ExecuteTime": {
     "end_time": "2024-04-06T05:03:58.799454400Z",
     "start_time": "2024-04-06T05:03:58.785528700Z"
    }
   }
  },
  {
   "cell_type": "markdown",
   "source": [
    "Создаём датасет с цветочками"
   ],
   "metadata": {
    "collapsed": false
   }
  },
  {
   "cell_type": "code",
   "execution_count": null,
   "outputs": [],
   "source": [
    "# (лучше загрузить свой с инета)\n",
    "data_dir = tf.keras.utils.get_file(origin=\"https://storage.googleapis.com/download.tensorflow.org/example_images/flower_photos.tgz\",\n",
    "                                   fname=\"flower_photos\",\n",
    "                                   untar=True)\n",
    "data_dir = pathlib.Path(data_dir)\n",
    "\n",
    "# Константы\n",
    "batch_size = 32\n",
    "img_height = 180\n",
    "img_width = 180\n",
    "\n",
    "# Разбиваем датасет на тренировочную группу и группу валидации\n",
    "train_data = tf.keras.utils.image_dataset_from_directory(\n",
    "    data_dir,\n",
    "    validation_split=0.2,\n",
    "    subset=\"training\",\n",
    "    image_size=(img_height, img_width),\n",
    "    batch_size=batch_size,\n",
    "    seed=5432,\n",
    ")\n",
    "\n",
    "validation_data = tf.keras.utils.image_dataset_from_directory(\n",
    "    data_dir,\n",
    "    validation_split=0.2,\n",
    "    subset=\"validation\",\n",
    "    image_size=(img_height, img_width),\n",
    "    batch_size=batch_size,\n",
    "    seed=5432,\n",
    ")"
   ],
   "metadata": {
    "collapsed": false
   }
  },
  {
   "cell_type": "markdown",
   "source": [
    "Модель"
   ],
   "metadata": {
    "collapsed": false
   }
  },
  {
   "cell_type": "code",
   "execution_count": 152,
   "outputs": [
    {
     "ename": "ResourceExhaustedError",
     "evalue": "{{function_node __wrapped__StatelessRandomUniformV2_device_/job:localhost/replica:0/task:0/device:GPU:0}} OOM when allocating tensor with shape[66355200,8] and type float on /job:localhost/replica:0/task:0/device:GPU:0 by allocator GPU_0_bfc [Op:StatelessRandomUniformV2]",
     "output_type": "error",
     "traceback": [
      "\u001B[1;31m---------------------------------------------------------------------------\u001B[0m",
      "\u001B[1;31mResourceExhaustedError\u001B[0m                    Traceback (most recent call last)",
      "Cell \u001B[1;32mIn[152], line 13\u001B[0m\n\u001B[0;32m     11\u001B[0m x \u001B[38;5;241m=\u001B[39m Conv2D(\u001B[38;5;241m64\u001B[39m, (\u001B[38;5;241m3\u001B[39m, \u001B[38;5;241m3\u001B[39m), activation\u001B[38;5;241m=\u001B[39m\u001B[38;5;124m'\u001B[39m\u001B[38;5;124mrelu\u001B[39m\u001B[38;5;124m'\u001B[39m, padding\u001B[38;5;241m=\u001B[39m\u001B[38;5;124m'\u001B[39m\u001B[38;5;124msame\u001B[39m\u001B[38;5;124m'\u001B[39m)(x)\n\u001B[0;32m     12\u001B[0m x \u001B[38;5;241m=\u001B[39m Flatten()(x)\n\u001B[1;32m---> 13\u001B[0m latent_vector \u001B[38;5;241m=\u001B[39m \u001B[43mDense\u001B[49m\u001B[43m(\u001B[49m\u001B[43mlatent_dim\u001B[49m\u001B[43m)\u001B[49m\u001B[43m(\u001B[49m\u001B[43mx\u001B[49m\u001B[43m)\u001B[49m\n\u001B[0;32m     15\u001B[0m encoder \u001B[38;5;241m=\u001B[39m keras\u001B[38;5;241m.\u001B[39mModel(encoder_inputs, latent_vector, name\u001B[38;5;241m=\u001B[39m\u001B[38;5;124m\"\u001B[39m\u001B[38;5;124mencoder\u001B[39m\u001B[38;5;124m\"\u001B[39m)\n\u001B[0;32m     17\u001B[0m \u001B[38;5;66;03m# Декодировщик\u001B[39;00m\n",
      "File \u001B[1;32mC:\\ProgramData\\miniconda3\\lib\\site-packages\\keras\\utils\\traceback_utils.py:70\u001B[0m, in \u001B[0;36mfilter_traceback.<locals>.error_handler\u001B[1;34m(*args, **kwargs)\u001B[0m\n\u001B[0;32m     67\u001B[0m     filtered_tb \u001B[38;5;241m=\u001B[39m _process_traceback_frames(e\u001B[38;5;241m.\u001B[39m__traceback__)\n\u001B[0;32m     68\u001B[0m     \u001B[38;5;66;03m# To get the full stack trace, call:\u001B[39;00m\n\u001B[0;32m     69\u001B[0m     \u001B[38;5;66;03m# `tf.debugging.disable_traceback_filtering()`\u001B[39;00m\n\u001B[1;32m---> 70\u001B[0m     \u001B[38;5;28;01mraise\u001B[39;00m e\u001B[38;5;241m.\u001B[39mwith_traceback(filtered_tb) \u001B[38;5;28;01mfrom\u001B[39;00m \u001B[38;5;28;01mNone\u001B[39;00m\n\u001B[0;32m     71\u001B[0m \u001B[38;5;28;01mfinally\u001B[39;00m:\n\u001B[0;32m     72\u001B[0m     \u001B[38;5;28;01mdel\u001B[39;00m filtered_tb\n",
      "File \u001B[1;32mC:\\ProgramData\\miniconda3\\lib\\site-packages\\keras\\backend.py:2100\u001B[0m, in \u001B[0;36mRandomGenerator.random_uniform\u001B[1;34m(self, shape, minval, maxval, dtype, nonce)\u001B[0m\n\u001B[0;32m   2098\u001B[0m     \u001B[38;5;28;01mif\u001B[39;00m nonce:\n\u001B[0;32m   2099\u001B[0m         seed \u001B[38;5;241m=\u001B[39m tf\u001B[38;5;241m.\u001B[39mrandom\u001B[38;5;241m.\u001B[39mexperimental\u001B[38;5;241m.\u001B[39mstateless_fold_in(seed, nonce)\n\u001B[1;32m-> 2100\u001B[0m     \u001B[38;5;28;01mreturn\u001B[39;00m \u001B[43mtf\u001B[49m\u001B[38;5;241;43m.\u001B[39;49m\u001B[43mrandom\u001B[49m\u001B[38;5;241;43m.\u001B[39;49m\u001B[43mstateless_uniform\u001B[49m\u001B[43m(\u001B[49m\n\u001B[0;32m   2101\u001B[0m \u001B[43m        \u001B[49m\u001B[43mshape\u001B[49m\u001B[38;5;241;43m=\u001B[39;49m\u001B[43mshape\u001B[49m\u001B[43m,\u001B[49m\n\u001B[0;32m   2102\u001B[0m \u001B[43m        \u001B[49m\u001B[43mminval\u001B[49m\u001B[38;5;241;43m=\u001B[39;49m\u001B[43mminval\u001B[49m\u001B[43m,\u001B[49m\n\u001B[0;32m   2103\u001B[0m \u001B[43m        \u001B[49m\u001B[43mmaxval\u001B[49m\u001B[38;5;241;43m=\u001B[39;49m\u001B[43mmaxval\u001B[49m\u001B[43m,\u001B[49m\n\u001B[0;32m   2104\u001B[0m \u001B[43m        \u001B[49m\u001B[43mdtype\u001B[49m\u001B[38;5;241;43m=\u001B[39;49m\u001B[43mdtype\u001B[49m\u001B[43m,\u001B[49m\n\u001B[0;32m   2105\u001B[0m \u001B[43m        \u001B[49m\u001B[43mseed\u001B[49m\u001B[38;5;241;43m=\u001B[39;49m\u001B[43mseed\u001B[49m\u001B[43m,\u001B[49m\n\u001B[0;32m   2106\u001B[0m \u001B[43m    \u001B[49m\u001B[43m)\u001B[49m\n\u001B[0;32m   2107\u001B[0m \u001B[38;5;28;01mreturn\u001B[39;00m tf\u001B[38;5;241m.\u001B[39mrandom\u001B[38;5;241m.\u001B[39muniform(\n\u001B[0;32m   2108\u001B[0m     shape\u001B[38;5;241m=\u001B[39mshape,\n\u001B[0;32m   2109\u001B[0m     minval\u001B[38;5;241m=\u001B[39mminval,\n\u001B[1;32m   (...)\u001B[0m\n\u001B[0;32m   2112\u001B[0m     seed\u001B[38;5;241m=\u001B[39m\u001B[38;5;28mself\u001B[39m\u001B[38;5;241m.\u001B[39mmake_legacy_seed(),\n\u001B[0;32m   2113\u001B[0m )\n",
      "\u001B[1;31mResourceExhaustedError\u001B[0m: {{function_node __wrapped__StatelessRandomUniformV2_device_/job:localhost/replica:0/task:0/device:GPU:0}} OOM when allocating tensor with shape[66355200,8] and type float on /job:localhost/replica:0/task:0/device:GPU:0 by allocator GPU_0_bfc [Op:StatelessRandomUniformV2]"
     ]
    }
   ],
   "source": [
    "from keras.layers import (Flatten, Dense, Conv2DTranspose, Conv2D, Reshape, Input,)\n",
    "\n",
    "# Модель\n",
    "input_shape = (batch_size, img_height, img_width, 3)\n",
    "latent_dim = 8\n",
    "\n",
    "# Кодировщик\n",
    "encoder_inputs = Input(shape=input_shape)\n",
    "x = Conv2D(32, (3, 3), activation=\"relu\", padding=\"same\")(encoder_inputs)\n",
    "x = Conv2D(16, (3, 3), activation=\"relu\", padding=\"same\")(x)\n",
    "x = Conv2D(8, (3, 3), activation=\"relu\", padding=\"same\")(x)\n",
    "x = Conv2D(4, (3, 3), activation=\"relu\", padding=\"same\")(x)\n",
    "x = Flatten()(x)\n",
    "\n",
    "x = Dense(latent_dim*4, activation=\"relu\")(x)\n",
    "x = Dense(latent_dim*2, activation=\"relu\")(x)\n",
    "latent_vector = Dense(latent_dim, activation=\"sigmoid\")(x)\n",
    "\n",
    "encoder = keras.Model(encoder_inputs, latent_vector, name=\"encoder\")\n",
    "\n",
    "# Декодировщик\n",
    "latent_inputs = Input(shape=(batch_size, latent_dim))\n",
    "x = Dense(10 * 10 * 64, activation=\"sigmoid\")(latent_inputs)\n",
    "x = Reshape((batch_size, 10, 10, 64))(x)\n",
    "x = Conv2DTranspose(32, (3, 3), activation=\"relu\", strides=2, padding=\"same\")(x)\n",
    "x = Conv2DTranspose(16, (3, 3), activation=\"relu\", strides=2, padding=\"same\")(x)\n",
    "x = Conv2DTranspose(8, (3, 3), activation=\"relu\", strides=2, padding=\"same\")(x)\n",
    "decoder_outputs = Conv2DTranspose(3, (3, 3), activation=\"sigmoid\", padding=\"same\")(x)\n",
    "\n",
    "decoder = keras.Model(latent_inputs, decoder_outputs, name=\"decoder\")\n",
    "\n",
    "# Автоэнкодер\n",
    "autoencoder = keras.Model(encoder_inputs, decoder(encoder(encoder_inputs)), name=\"autoencoder\")\n",
    "autoencoder.compile(\n",
    "    loss=\"binary_crossentropy\",\n",
    "    optimizer=\"rmsprop\",\n",
    ")\n",
    "\n",
    "autoencoder.summary()"
   ],
   "metadata": {
    "collapsed": false,
    "ExecuteTime": {
     "end_time": "2024-04-06T05:30:04.486080Z",
     "start_time": "2024-04-06T05:29:54.396338300Z"
    }
   }
  },
  {
   "cell_type": "code",
   "execution_count": null,
   "outputs": [],
   "source": [],
   "metadata": {
    "collapsed": false
   }
  }
 ],
 "metadata": {
  "kernelspec": {
   "display_name": "Python 3",
   "language": "python",
   "name": "python3"
  },
  "language_info": {
   "codemirror_mode": {
    "name": "ipython",
    "version": 2
   },
   "file_extension": ".py",
   "mimetype": "text/x-python",
   "name": "python",
   "nbconvert_exporter": "python",
   "pygments_lexer": "ipython2",
   "version": "2.7.6"
  }
 },
 "nbformat": 4,
 "nbformat_minor": 0
}
