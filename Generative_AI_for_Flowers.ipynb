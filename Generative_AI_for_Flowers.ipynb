{
 "cells": [
  {
   "cell_type": "code",
   "execution_count": 1,
   "outputs": [],
   "source": [
    "from tensorflow import keras\n",
    "import tensorflow_datasets.public_api as tfds\n",
    "import tensorflow as tf\n",
    "import pathlib"
   ],
   "metadata": {
    "collapsed": false,
    "ExecuteTime": {
     "end_time": "2024-04-10T12:15:15.113028100Z",
     "start_time": "2024-04-10T12:15:13.667890Z"
    }
   }
  },
  {
   "cell_type": "markdown",
   "source": [
    "Создаём датасет с цветочками"
   ],
   "metadata": {
    "collapsed": false
   }
  },
  {
   "cell_type": "code",
   "execution_count": 8,
   "outputs": [
    {
     "name": "stdout",
     "output_type": "stream",
     "text": [
      "Found 3670 files belonging to 5 classes.\n",
      "Using 2936 files for training.\n",
      "Found 3670 files belonging to 5 classes.\n",
      "Using 734 files for validation.\n"
     ]
    }
   ],
   "source": [
    "# (лучше загрузить свой с инета)\n",
    "data_dir = tf.keras.utils.get_file(origin=\"C:\\\\Users\\\\samki\\\\Downloads\\\\flowers.zip\",\n",
    "                                   fname=\"flower_photos\",\n",
    "                                   untar=True)\n",
    "data_dir = pathlib.Path(data_dir)\n",
    "\n",
    "# Константы\n",
    "batch_size = 20\n",
    "img_height = img_width = 192\n",
    "\n",
    "# Разбиваем датасет на тренировочную группу и группу валидации\n",
    "train_data = tf.keras.utils.image_dataset_from_directory(\n",
    "    data_dir,\n",
    "    validation_split=0.2,\n",
    "    subset=\"training\",\n",
    "    image_size=(img_height, img_width),\n",
    "    batch_size=batch_size,\n",
    "    seed=5432,\n",
    ")\n",
    "\n",
    "validation_data = tf.keras.utils.image_dataset_from_directory(\n",
    "    data_dir,\n",
    "    validation_split=0.2,\n",
    "    subset=\"validation\",\n",
    "    image_size=(img_height, img_width),\n",
    "    batch_size=batch_size,\n",
    "    seed=5432,\n",
    ")\n",
    "\n",
    "\n",
    "train_data = train_data.map(lambda x, y: (x / 255.0, x / 255.0))\n",
    "validation_data = validation_data.map(lambda x, y: (x / 255.0, x / 255.0))"
   ],
   "metadata": {
    "collapsed": false,
    "ExecuteTime": {
     "end_time": "2024-04-10T12:16:01.782029500Z",
     "start_time": "2024-04-10T12:16:01.451198700Z"
    }
   }
  },
  {
   "cell_type": "markdown",
   "source": [
    "Модель"
   ],
   "metadata": {
    "collapsed": false
   }
  },
  {
   "cell_type": "code",
   "execution_count": 23,
   "outputs": [
    {
     "name": "stdout",
     "output_type": "stream",
     "text": [
      "Model: \"vae\"\n",
      "_________________________________________________________________\n",
      " Layer (type)                Output Shape              Param #   \n",
      "=================================================================\n",
      " input_35 (InputLayer)       [(None, 192, 192, 3)]     0         \n",
      "                                                                 \n",
      " conv2d_136 (Conv2D)         (None, 192, 192, 32)      896       \n",
      "                                                                 \n",
      " batch_normalization_281 (Ba  (None, 192, 192, 32)     128       \n",
      " tchNormalization)                                               \n",
      "                                                                 \n",
      " max_pooling2d_136 (MaxPooli  (None, 96, 96, 32)       0         \n",
      " ng2D)                                                           \n",
      "                                                                 \n",
      " conv2d_137 (Conv2D)         (None, 96, 96, 32)        9248      \n",
      "                                                                 \n",
      " batch_normalization_282 (Ba  (None, 96, 96, 32)       128       \n",
      " tchNormalization)                                               \n",
      "                                                                 \n",
      " max_pooling2d_137 (MaxPooli  (None, 48, 48, 32)       0         \n",
      " ng2D)                                                           \n",
      "                                                                 \n",
      " conv2d_138 (Conv2D)         (None, 48, 48, 32)        9248      \n",
      "                                                                 \n",
      " batch_normalization_283 (Ba  (None, 48, 48, 32)       128       \n",
      " tchNormalization)                                               \n",
      "                                                                 \n",
      " max_pooling2d_138 (MaxPooli  (None, 24, 24, 32)       0         \n",
      " ng2D)                                                           \n",
      "                                                                 \n",
      " conv2d_139 (Conv2D)         (None, 24, 24, 32)        9248      \n",
      "                                                                 \n",
      " batch_normalization_284 (Ba  (None, 24, 24, 32)       128       \n",
      " tchNormalization)                                               \n",
      "                                                                 \n",
      " max_pooling2d_139 (MaxPooli  (None, 12, 12, 32)       0         \n",
      " ng2D)                                                           \n",
      "                                                                 \n",
      " conv2d_140 (Conv2D)         (None, 12, 12, 32)        9248      \n",
      "                                                                 \n",
      " batch_normalization_285 (Ba  (None, 12, 12, 32)       128       \n",
      " tchNormalization)                                               \n",
      "                                                                 \n",
      " max_pooling2d_140 (MaxPooli  (None, 6, 6, 32)         0         \n",
      " ng2D)                                                           \n",
      "                                                                 \n",
      " conv2d_141 (Conv2D)         (None, 6, 6, 32)          9248      \n",
      "                                                                 \n",
      " batch_normalization_286 (Ba  (None, 6, 6, 32)         128       \n",
      " tchNormalization)                                               \n",
      "                                                                 \n",
      " max_pooling2d_141 (MaxPooli  (None, 3, 3, 32)         0         \n",
      " ng2D)                                                           \n",
      "                                                                 \n",
      " conv2d_142 (Conv2D)         (None, 3, 3, 32)          9248      \n",
      "                                                                 \n",
      " batch_normalization_287 (Ba  (None, 3, 3, 32)         128       \n",
      " tchNormalization)                                               \n",
      "                                                                 \n",
      " max_pooling2d_142 (MaxPooli  (None, 2, 2, 32)         0         \n",
      " ng2D)                                                           \n",
      "                                                                 \n",
      " conv2d_143 (Conv2D)         (None, 2, 2, 32)          9248      \n",
      "                                                                 \n",
      " batch_normalization_288 (Ba  (None, 2, 2, 32)         128       \n",
      " tchNormalization)                                               \n",
      "                                                                 \n",
      " max_pooling2d_143 (MaxPooli  (None, 1, 1, 32)         0         \n",
      " ng2D)                                                           \n",
      "                                                                 \n",
      " flatten_17 (Flatten)        (None, 32)                0         \n",
      "                                                                 \n",
      " dense_68 (Dense)            (None, 64)                2112      \n",
      "                                                                 \n",
      " batch_normalization_289 (Ba  (None, 64)               256       \n",
      " tchNormalization)                                               \n",
      "                                                                 \n",
      " dense_69 (Dense)            (None, 64)                4160      \n",
      "                                                                 \n",
      " decoder (Functional)        (None, 192, 192, 3)       1192707   \n",
      "                                                                 \n",
      "=================================================================\n",
      "Total params: 1,265,891\n",
      "Trainable params: 1,261,411\n",
      "Non-trainable params: 4,480\n",
      "_________________________________________________________________\n"
     ]
    }
   ],
   "source": [
    "from keras.layers import Input, Dense, Conv2D, Conv2DTranspose, BatchNormalization, Dropout, Flatten, Reshape, Lambda, MaxPool2D\n",
    "from keras.models import Model\n",
    "from keras.losses import binary_crossentropy\n",
    "from keras.layers import LeakyReLU\n",
    "from keras.optimizers import RMSprop, Adam\n",
    "from keras import backend as K\n",
    "\n",
    "def multiply(arr: list[int]) -> int:\n",
    "    num = 1\n",
    "    for i in arr:\n",
    "        num *= i\n",
    "    return num\n",
    "\n",
    "latent_dim = 64\n",
    "\n",
    "# Энкодер\n",
    "input_img = Input(shape=(img_height, img_width, 3))\n",
    "\n",
    "x = Conv2D(32, (3, 3), activation=\"relu\", padding=\"same\")(input_img)\n",
    "x = BatchNormalization()(x)\n",
    "x = MaxPool2D((2, 2), padding=\"same\")(x)\n",
    "\n",
    "x = Conv2D(32, (3, 3), activation=\"relu\", padding=\"same\")(x)\n",
    "x = BatchNormalization()(x)\n",
    "x = MaxPool2D((2, 2), padding=\"same\")(x)\n",
    "\n",
    "x = Conv2D(32, (3, 3), activation=\"relu\", padding=\"same\")(x)\n",
    "x = BatchNormalization()(x)\n",
    "x = MaxPool2D((2, 2), padding=\"same\")(x)\n",
    "\n",
    "x = Conv2D(32, (3, 3), activation=\"relu\", padding=\"same\")(x)\n",
    "x = BatchNormalization()(x)\n",
    "x = MaxPool2D((2, 2), padding=\"same\")(x)\n",
    "\n",
    "x = Conv2D(32, (3, 3), activation=\"relu\", padding=\"same\")(x)\n",
    "x = BatchNormalization()(x)\n",
    "x = MaxPool2D((2, 2), padding=\"same\")(x)\n",
    "\n",
    "x = Conv2D(32, (3, 3), activation=\"relu\", padding=\"same\")(x)\n",
    "x = BatchNormalization()(x)\n",
    "x = MaxPool2D((2, 2), padding=\"same\")(x)\n",
    "\n",
    "x = Conv2D(32, (3, 3), activation=\"relu\", padding=\"same\")(x)\n",
    "x = BatchNormalization()(x)\n",
    "x = MaxPool2D((2, 2), padding=\"same\")(x)\n",
    "\n",
    "x = Conv2D(32, (3, 3), activation=\"relu\", padding=\"same\")(x)\n",
    "x = BatchNormalization()(x)\n",
    "x = MaxPool2D((2, 2), padding=\"same\")(x)\n",
    "\n",
    "x = Flatten()(x)\n",
    "\n",
    "x = Dense(latent_dim, activation=\"relu\")(x)\n",
    "x = BatchNormalization()(x)\n",
    "\n",
    "middle_layer = Dense(latent_dim)(x)\n",
    "encoder = Model(input_img, middle_layer, \"encoder\")\n",
    "\n",
    "# Декодер\n",
    "z = Input(shape=(latent_dim, ))\n",
    "dec_input_shape = (3, 3, 64)\n",
    "\n",
    "x = Dense(multiply(dec_input_shape), activation=\"relu\")(z)\n",
    "x = LeakyReLU()(x)\n",
    "x = BatchNormalization()(x)\n",
    "\n",
    "x = Dense(multiply(dec_input_shape), activation=\"relu\")(x)\n",
    "x = LeakyReLU()(x)\n",
    "x = BatchNormalization()(x)\n",
    "\n",
    "x = Reshape(dec_input_shape)(x)\n",
    "x = Conv2DTranspose(128, (3, 3), activation=\"relu\", strides=2, padding=\"same\")(x)\n",
    "x = BatchNormalization()(x)\n",
    "x = Conv2DTranspose(128, (3, 3), activation=\"relu\", strides=2, padding=\"same\")(x)\n",
    "x = BatchNormalization()(x)\n",
    "x = Conv2DTranspose(128, (3, 3), activation=\"relu\", strides=2, padding=\"same\")(x)\n",
    "x = BatchNormalization()(x)\n",
    "x = Conv2DTranspose(128, (3, 3), activation=\"relu\", strides=2, padding=\"same\")(x)\n",
    "x = BatchNormalization()(x)\n",
    "x = Conv2DTranspose(128, (3, 3), activation=\"relu\", strides=2, padding=\"same\")(x)\n",
    "x = BatchNormalization()(x)\n",
    "x = Conv2DTranspose(128, (3, 3), activation=\"relu\", strides=2, padding=\"same\")(x)\n",
    "x = BatchNormalization()(x)\n",
    "decoded = Conv2DTranspose(3, (3, 3), activation=\"sigmoid\", padding=\"same\")(x)\n",
    "\n",
    "decoder = Model(z, decoded, name=\"decoder\")\n",
    "\n",
    "# VAE модель\n",
    "vae = Model(input_img, decoder(middle_layer), name=\"vae\")\n",
    "\n",
    "def vae_loss(x, decoded):\n",
    "    x = K.reshape(x, shape=(batch_size, img_height * img_width * 3))\n",
    "    decoded = K.reshape(decoded, shape=(batch_size, img_height * img_width * 3))\n",
    "\n",
    "    xent_loss = img_height * img_width * 3 * binary_crossentropy(x, decoded)\n",
    "    kl_loss = -0.5 * K.sum(\n",
    "        1 + z_log_var - K.square(middle_layer) - K.exp(middle_layer),\n",
    "        axis=-1,\n",
    "    )\n",
    "\n",
    "    return (xent_loss + kl_loss) / (2 * img_height * img_width * 3)\n",
    "\n",
    "vae.compile(optimizer=Adam(1e-3, beta_1=0.8, beta_2=0.7), loss=\"mae\")\n",
    "vae.summary()"
   ],
   "metadata": {
    "collapsed": false,
    "ExecuteTime": {
     "end_time": "2024-04-10T12:25:51.483628800Z",
     "start_time": "2024-04-10T12:25:51.198284200Z"
    }
   }
  },
  {
   "cell_type": "code",
   "execution_count": null,
   "outputs": [
    {
     "name": "stdout",
     "output_type": "stream",
     "text": [
      "Epoch 1/10\n",
      "147/147 [==============================] - 67s 438ms/step - loss: 0.6419 - val_loss: 0.6536\n",
      "Epoch 2/10\n",
      "147/147 [==============================] - 62s 421ms/step - loss: 0.5960 - val_loss: 0.6281\n",
      "Epoch 3/10\n",
      "147/147 [==============================] - 62s 421ms/step - loss: 0.5871 - val_loss: 0.6855\n",
      "Epoch 4/10\n",
      "147/147 [==============================] - 62s 423ms/step - loss: 0.5811 - val_loss: 0.6568\n",
      "Epoch 5/10\n",
      "147/147 [==============================] - 62s 421ms/step - loss: 0.5768 - val_loss: 0.7127\n",
      "Epoch 6/10\n",
      " 74/147 [==============>...............] - ETA: 27s - loss: 0.5753"
     ]
    }
   ],
   "source": [
    "vae.fit(\n",
    "    train_data,\n",
    "    epochs=10,\n",
    "    validation_data=validation_data,\n",
    ")"
   ],
   "metadata": {
    "collapsed": false,
    "is_executing": true,
    "ExecuteTime": {
     "start_time": "2024-04-10T12:25:53.303973300Z"
    }
   }
  },
  {
   "cell_type": "code",
   "execution_count": null,
   "outputs": [],
   "source": [
    "import matplotlib.pyplot as plt\n",
    "\n",
    "# Генерация изображений с помощью автоэнкодера\n",
    "generated_images = vae.predict(validation_data)\n",
    "num_images = 10\n",
    "\n",
    "# Конвертируем в список\n",
    "validation_img = generated_img = []\n",
    "for img, _ in validation_data:\n",
    "    validation_img.extend(img.numpy())\n",
    "\n",
    "# Отображение сгенерированных изображений\n",
    "plt.figure(figsize=(17, 4))\n",
    "for i in range(num_images):\n",
    "    # Исходное изображение\n",
    "    plt.subplot(2, num_images, i + 1)\n",
    "    plt.imshow(validation_img[i])\n",
    "    plt.title(\"Original\")\n",
    "    plt.axis(\"off\")\n",
    "\n",
    "    # Сгенерированное изображение\n",
    "    plt.subplot(2, num_images, i + num_images + 1)\n",
    "    plt.imshow(generated_images[i])\n",
    "    plt.title(\"Generated\")\n",
    "    plt.axis(\"off\")\n",
    "\n",
    "plt.tight_layout()\n",
    "plt.show()"
   ],
   "metadata": {
    "collapsed": false
   }
  },
  {
   "cell_type": "code",
   "execution_count": null,
   "outputs": [],
   "source": [],
   "metadata": {
    "collapsed": false
   }
  }
 ],
 "metadata": {
  "kernelspec": {
   "display_name": "Python 3",
   "language": "python",
   "name": "python3"
  },
  "language_info": {
   "codemirror_mode": {
    "name": "ipython",
    "version": 2
   },
   "file_extension": ".py",
   "mimetype": "text/x-python",
   "name": "python",
   "nbconvert_exporter": "python",
   "pygments_lexer": "ipython2",
   "version": "2.7.6"
  }
 },
 "nbformat": 4,
 "nbformat_minor": 0
}
