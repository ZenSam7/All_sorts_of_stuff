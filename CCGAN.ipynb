{
 "cells": [
  {
   "cell_type": "code",
   "execution_count": null,
   "metadata": {},
   "outputs": [],
   "source": [
    "from __future__ import print_function, division\n",
    "from tensorflow import keras\n",
    "import tensorflow as tf\n",
    "\n",
    "from keras.layers import *\n",
    "from keras.models import Model, Sequential\n",
    "from keras.optimizers import Adam, RMSprop\n",
    "import keras.backend as K\n",
    "\n",
    "from math import log2\n",
    "import numpy as np\n",
    "from random import randint\n",
    "\n",
    "import matplotlib.pyplot as plt"
   ]
  },
  {
   "cell_type": "raw",
   "metadata": {},
   "source": [
    "Создаём датасет с цветочками"
   ]
  },
  {
   "cell_type": "code",
   "execution_count": null,
   "metadata": {},
   "outputs": [],
   "source": [
    "# Константы\n",
    "img_side = 204\n",
    "\n",
    "# Разбиваем датасет на тренировочную группу и группу валидации\n",
    "def init_data_with_batch_size(batch_size, dataset=\"flowers\"):\n",
    "    \"\"\"Чтобы использовать \"new_flowers\" (расширенный датасет) надо запустить increasing_data.py\"\"\"\n",
    "    train_data = keras.preprocessing.image_dataset_from_directory(\n",
    "        dataset,\n",
    "        image_size=(img_side, img_side),\n",
    "        label_mode=\"int\",  # Тут не \"categorical\" т.к. мы испольлзауем Embedding\n",
    "        shuffle=True,\n",
    "        batch_size=batch_size,\n",
    "    )\n",
    "\n",
    "    # Добавляем лейблы (т.к. у нас Cgan) и нормализуем в [-1; 1], т.к. юзаем tanh\n",
    "    # (не sigmoid, а tanh, т.к. с ним градиент не затухает)\n",
    "    x = np.array([i[0]/127.5 -1 for i in train_data][:-1])\n",
    "    y = np.array([i[1] for i in train_data][:-1])\n",
    "\n",
    "    return x, y"
   ]
  },
  {
   "cell_type": "code",
   "execution_count": null,
   "metadata": {},
   "outputs": [],
   "source": [
    "data = init_data_with_batch_size(1, \"flowers\")\n",
    "\n",
    "cgan.train(data, 16, 20000, sample_interval=500)"
   ]
  },
  {
   "cell_type": "code",
   "execution_count": null,
   "outputs": [],
   "source": [
    "def show_row_images(raw_data):\n",
    "    # Ограничиваемся только 32 восстановленными изображениями (чтобы считать меньше)\n",
    "    data = np.array([i[0][0] for count, i in enumerate(raw_data) if count < 32])\n",
    "    labels = np.array([i[1][0] for count, i in enumerate(raw_data) if count < 32])\n",
    "    _, _, encoded = encoder.predict([data, labels], verbose=False)\n",
    "    generated_images = decoder.predict([encoded, labels], verbose=False)\n",
    "\n",
    "    num_images = 4\n",
    "\n",
    "    plt.figure(figsize=(20, 11))\n",
    "\n",
    "    for _ in range(num_images):\n",
    "        random_num = randint(0, 32-1)\n",
    "\n",
    "        # Оригинальное изображение\n",
    "        plt.subplot(2, num_images, _ + 1)\n",
    "        plt.imshow(data[random_num])\n",
    "        plt.gray()\n",
    "        plt.title(\"Train\")\n",
    "        plt.axis(\"off\")\n",
    "\n",
    "        # Сгенерированное изображение\n",
    "        plt.subplot(2, num_images, _ + num_images + 1)\n",
    "        plt.imshow(generated_images[random_num])\n",
    "        plt.gray()\n",
    "        plt.title(\"Generated\")\n",
    "        plt.axis(\"off\")\n",
    "    plt.tight_layout()\n",
    "    plt.show()\n",
    "\n",
    "raw_data = init_data_with_batch_size(1, \"flowers\")\n",
    "for _ in range(3):\n",
    "    show_row_images(raw_data)"
   ],
   "metadata": {
    "collapsed": false
   }
  },
  {
   "cell_type": "code",
   "execution_count": null,
   "outputs": [],
   "source": [
    "d = init_data_with_batch_size(1, \"flowers\")\n",
    "data = np.array([next(iter(d))[0][0] for _ in range(1000)])\n",
    "labels = np.array([next(iter(d))[1][0] for _ in range(1000)])\n",
    "\n",
    "_, _, all_hidden_data = encoder.predict([data, labels])\n",
    "mean, std = np.mean(all_hidden_data), np.std(all_hidden_data)\n",
    "print(\"mean (ideal: 0):\", mean)\n",
    "print(\"std  (ideal: 1):\", std)\n",
    "\n",
    "for _ in range(4):\n",
    "    num_images = 4\n",
    "\n",
    "    noise = np.random.normal(mean, std, [num_images*2, hidden_units])\n",
    "    label = np.array([ keras.utils.to_categorical(np.random.randint(0, 5), 5)\n",
    "                       for _ in range(num_images*2)])\n",
    "    generated_images = np.array(decoder.predict([noise, label], verbose=False))\n",
    "\n",
    "    plt.figure(figsize=(20, 11))\n",
    "\n",
    "    for i in range(num_images):\n",
    "        # Оригинальное изображение\n",
    "        plt.subplot(2, num_images, i + 1)\n",
    "\n",
    "        # Переводим в промежуток [0; 1]\n",
    "        plt.imshow(generated_images[i + num_images])\n",
    "        plt.axis(\"off\")\n",
    "\n",
    "        # Сгенерированное изображение\n",
    "        plt.subplot(2, num_images, i + num_images + 1)\n",
    "        plt.imshow(generated_images[i])\n",
    "        plt.axis(\"off\")\n",
    "    plt.tight_layout()\n",
    "    plt.show()"
   ],
   "metadata": {
    "collapsed": false
   }
  },
  {
   "cell_type": "code",
   "execution_count": null,
   "outputs": [],
   "source": [
    "\"\"\"Выводим Архитектуру\"\"\"\n",
    "encoder_img = tf.keras.utils.plot_model(encoder, to_file=\"encoder.png\", show_shapes=False, show_layer_names=False,\n",
    "                                        dpi=128, show_layer_activations=False)\n",
    "\n",
    "decoder_img = tf.keras.utils.plot_model(decoder, to_file=\"decoder.png\", show_shapes=False, show_layer_names=False,\n",
    "                                        dpi=128, show_layer_activations=False)"
   ],
   "metadata": {
    "collapsed": false
   }
  },
  {
   "cell_type": "code",
   "execution_count": null,
   "outputs": [],
   "source": [
    "cgan.save_weights(\"cgan\")\n",
    "# cgan.load_weights(\"cgan\")"
   ],
   "metadata": {
    "collapsed": false
   }
  },
  {
   "cell_type": "code",
   "execution_count": null,
   "outputs": [],
   "source": [],
   "metadata": {
    "collapsed": false
   }
  }
 ],
 "metadata": {
  "kernelspec": {
   "display_name": "Python 3 (ipykernel)",
   "language": "python",
   "name": "python3"
  },
  "language_info": {
   "codemirror_mode": {
    "name": "ipython",
    "version": 3
   },
   "file_extension": ".py",
   "mimetype": "text/x-python",
   "name": "python",
   "nbconvert_exporter": "python",
   "pygments_lexer": "ipython3",
   "version": "3.9.19"
  }
 },
 "nbformat": 4,
 "nbformat_minor": 1
}
